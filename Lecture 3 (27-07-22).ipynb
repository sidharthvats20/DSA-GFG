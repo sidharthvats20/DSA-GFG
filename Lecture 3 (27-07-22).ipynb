{
 "cells": [
  {
   "cell_type": "markdown",
   "metadata": {},
   "source": [
    "# LECTURE 3"
   ]
  },
  {
   "cell_type": "markdown",
   "metadata": {},
   "source": [
    "## BEST, AVERAGE & WORST CASES & ASYMPTOTIC NOTATIONS"
   ]
  },
  {
   "cell_type": "markdown",
   "metadata": {},
   "source": [
    "### Let's consider a function for sum of elements in a list :"
   ]
  },
  {
   "cell_type": "code",
   "execution_count": 1,
   "metadata": {},
   "outputs": [],
   "source": [
    "def SUM(l):\n",
    "    sum = 0\n",
    "    for item in l:\n",
    "        sum = sum + item\n",
    "    return sum"
   ]
  },
  {
   "cell_type": "code",
   "execution_count": 11,
   "metadata": {},
   "outputs": [],
   "source": [
    "l = [1,3,4,5,7]"
   ]
  },
  {
   "cell_type": "code",
   "execution_count": 12,
   "metadata": {},
   "outputs": [
    {
     "data": {
      "text/plain": [
       "20"
      ]
     },
     "execution_count": 12,
     "metadata": {},
     "output_type": "execute_result"
    }
   ],
   "source": [
    "SUM(l)"
   ]
  },
  {
   "cell_type": "markdown",
   "metadata": {},
   "source": [
    "## Linear or C1n + C2\n",
    "#### Now, the order of growth of the above function will be = n => \n"
   ]
  },
  {
   "cell_type": "code",
   "execution_count": null,
   "metadata": {},
   "outputs": [],
   "source": []
  },
  {
   "cell_type": "markdown",
   "metadata": {},
   "source": [
    "### Now let's consider another function where\n",
    "#### if the list has even number of elements then return 0 else return the sum of elements."
   ]
  },
  {
   "cell_type": "code",
   "execution_count": 9,
   "metadata": {},
   "outputs": [],
   "source": [
    "def getSumOdd(l):\n",
    "    if(len(l)%2 == 0):\n",
    "        return 0\n",
    "    sum = 0\n",
    "    for item in l:\n",
    "        sum = sum + item\n",
    "    return sum"
   ]
  },
  {
   "cell_type": "code",
   "execution_count": 13,
   "metadata": {},
   "outputs": [
    {
     "data": {
      "text/plain": [
       "20"
      ]
     },
     "execution_count": 13,
     "metadata": {},
     "output_type": "execute_result"
    }
   ],
   "source": [
    "getSumOdd(l)"
   ]
  },
  {
   "cell_type": "markdown",
   "metadata": {},
   "source": [
    "# What ? \n",
    "#### what can you say about the order of growth of the above function ?"
   ]
  },
  {
   "cell_type": "markdown",
   "metadata": {},
   "source": [
    "###  - Nothing in General\n",
    "#### yes, we can't say a specific order of growth for the given function because it has got different/multiple cases with different time complexities."
   ]
  },
  {
   "cell_type": "markdown",
   "metadata": {},
   "source": [
    "### Case 1\n",
    "#### - Even number of elements.\n",
    "There is a possibility that this list has even number of elements, in that case the execution is done just till the if block. It will return 0. So, in this case this function is not dependent on the input size n.\n",
    "\n",
    "#### Hence, it's OOG will be constant or C1\n",
    "\n",
    "### Case 2\n",
    "#### - Odd number of elements.\n",
    "There is also a possibility that this list has odd number of elements, in that case the execution is done till the end. It will return the sum of elements. The list operation happens n times in order to calculate the sum, where 'n' is the number of elements in the list  So, in this case this function is dependent on the input size n.\n",
    "\n",
    "#### Hence, it's OOG will be Linear of order n, i.e => C1n+C2"
   ]
  },
  {
   "cell_type": "markdown",
   "metadata": {},
   "source": [
    "In these types of scenarios:\n",
    "# We can't give a single or specific OOG"
   ]
  },
  {
   "cell_type": "markdown",
   "metadata": {},
   "source": [
    "# So\n",
    "### we divide all these cases for any algo in three cases\n",
    "- Best Case \n",
    "- Average Case\n",
    "- Worst CASE"
   ]
  },
  {
   "cell_type": "markdown",
   "metadata": {},
   "source": [
    "### - BEST CASE - Constant\n",
    "The best case here is constant whenthe number of elements in list is even\n",
    "\n",
    "### - Average Case - Linear\n",
    "Under the assumption that even and odd are equally likely\n",
    "\n",
    "### - Worst Case - Linear\n",
    "The worst case here is constant whenthe number of elements in list is even"
   ]
  },
  {
   "cell_type": "code",
   "execution_count": null,
   "metadata": {},
   "outputs": [],
   "source": []
  },
  {
   "cell_type": "markdown",
   "metadata": {},
   "source": [
    "# Asymptotic Notations"
   ]
  },
  {
   "cell_type": "markdown",
   "metadata": {},
   "source": [
    "## - Big O : Represents exact or upper bound\n",
    "For getSumOdd Big 0 = O(n)\n",
    "## - Theta : Represents exact bound\n",
    "we can't represent it by single theta notation because the above function doesn't have a single time complexity. So, in best case it was theta 1 and in worst case it will be theta n\n",
    "## - Omega : Represents exact or lower bound\n",
    "For getSumOdd Omega  = Omega 1"
   ]
  },
  {
   "cell_type": "code",
   "execution_count": null,
   "metadata": {},
   "outputs": [],
   "source": []
  },
  {
   "cell_type": "code",
   "execution_count": null,
   "metadata": {},
   "outputs": [],
   "source": []
  },
  {
   "cell_type": "code",
   "execution_count": null,
   "metadata": {},
   "outputs": [],
   "source": []
  },
  {
   "cell_type": "code",
   "execution_count": null,
   "metadata": {},
   "outputs": [],
   "source": []
  },
  {
   "cell_type": "code",
   "execution_count": null,
   "metadata": {},
   "outputs": [],
   "source": []
  },
  {
   "cell_type": "code",
   "execution_count": null,
   "metadata": {},
   "outputs": [],
   "source": []
  }
 ],
 "metadata": {
  "kernelspec": {
   "display_name": "Python 3",
   "language": "python",
   "name": "python3"
  },
  "language_info": {
   "codemirror_mode": {
    "name": "ipython",
    "version": 3
   },
   "file_extension": ".py",
   "mimetype": "text/x-python",
   "name": "python",
   "nbconvert_exporter": "python",
   "pygments_lexer": "ipython3",
   "version": "3.7.3"
  }
 },
 "nbformat": 4,
 "nbformat_minor": 2
}
